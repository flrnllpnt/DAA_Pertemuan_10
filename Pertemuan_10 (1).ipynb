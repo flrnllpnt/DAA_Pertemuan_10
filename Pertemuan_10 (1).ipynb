{
  "nbformat": 4,
  "nbformat_minor": 0,
  "metadata": {
    "colab": {
      "name": "Pertemuan 10.ipynb",
      "provenance": [],
      "collapsed_sections": []
    },
    "kernelspec": {
      "name": "python3",
      "display_name": "Python 3"
    }
  },
  "cells": [
    {
      "cell_type": "markdown",
      "metadata": {
        "id": "pbxrZ3wIKgFG"
      },
      "source": [
        "**1. Membuat graph dengan elemen V = {a, b, c, d, e} E = {ab, ac, bd, cd, de}**"
      ]
    },
    {
      "cell_type": "code",
      "metadata": {
        "id": "khxH29vtGb0d"
      },
      "source": [
        "# a-----b\n",
        "# /     /\n",
        "# /     /\n",
        "# c-----d-----e"
      ],
      "execution_count": null,
      "outputs": []
    },
    {
      "cell_type": "code",
      "metadata": {
        "colab": {
          "base_uri": "https://localhost:8080/"
        },
        "id": "5IQy0sOYJhOP",
        "outputId": "99d5647e-f20d-4e2b-f2b3-622647981c3f"
      },
      "source": [
        "# Create the dictionary with graph elements\n",
        "graph = { \"a\" : [\"b\",\"c\"],\n",
        "          \"b\" : [\"a\", \"d\"],\n",
        "          \"c\" : [\"a\", \"d\"],\n",
        "          \"d\" : [\"e\"],\n",
        "          \"e\" : [\"d\"]\n",
        "         }\n",
        "# Print the graph\n",
        "print(graph)"
      ],
      "execution_count": null,
      "outputs": [
        {
          "output_type": "stream",
          "text": [
            "{'a': ['b', 'c'], 'b': ['a', 'd'], 'c': ['a', 'd'], 'd': ['e'], 'e': ['d']}\n"
          ],
          "name": "stdout"
        }
      ]
    },
    {
      "cell_type": "markdown",
      "metadata": {
        "id": "3wG1rdQOKwPN"
      },
      "source": [
        "**2. Menampilkan simpul pada graph**"
      ]
    },
    {
      "cell_type": "code",
      "metadata": {
        "colab": {
          "base_uri": "https://localhost:8080/"
        },
        "id": "DfC2tAZhK2b5",
        "outputId": "9e20a950-94f5-4985-b9ec-fad26ff281e1"
      },
      "source": [
        "class graph:\n",
        "    def __init__(self,gdict=None):\n",
        "        if gdict is None:\n",
        "            gdict = []\n",
        "        self.gdict = gdict\n",
        "# Get the keys of the dictionary\n",
        "    def getVertices(self):\n",
        "        return list(self.gdict.keys())\n",
        "# Create the dictionary with graph elements\n",
        "graph_elements = { \"a\" : [\"b\",\"c\"],\n",
        "                  \"b\" : [\"a\", \"d\"],\n",
        "                  \"c\" : [\"a\", \"d\"],\n",
        "                  \"d\" : [\"e\"],\n",
        "                  \"e\" : [\"d\"]\n",
        "                  }\n",
        "g = graph(graph_elements)\n",
        "\n",
        "print(g.getVertices())"
      ],
      "execution_count": null,
      "outputs": [
        {
          "output_type": "stream",
          "text": [
            "['a', 'b', 'c', 'd', 'e']\n"
          ],
          "name": "stdout"
        }
      ]
    },
    {
      "cell_type": "markdown",
      "metadata": {
        "id": "N29_-_X4QJ6Q"
      },
      "source": [
        "**3. Menampilkan sudut pada graph**"
      ]
    },
    {
      "cell_type": "code",
      "metadata": {
        "colab": {
          "base_uri": "https://localhost:8080/"
        },
        "id": "X7vdAW3BQbDr",
        "outputId": "2780f9f4-9c93-4109-d437-8d28a2e19d99"
      },
      "source": [
        "class graph:\n",
        "    def __init__(self,gdict=None):\n",
        "        if gdict is None:\n",
        "            gdict = {}\n",
        "        self.gdict = gdict\n",
        "\n",
        "    def edges(self):\n",
        "        return self.findedges()\n",
        "\n",
        "# Find the distinct list of edges\n",
        "    def findedges(self):\n",
        "        edgename = []\n",
        "        for vrtx in self.gdict:\n",
        "            for nxtvrtx in self.gdict[vrtx]:\n",
        "                if {nxtvrtx, vrtx} not in edgename:\n",
        "                    edgename.append({vrtx, nxtvrtx})\n",
        "            return edgename\n",
        "\n",
        "# Create the dictionary with graph elements\n",
        "graph_elements = { \"a\" : [\"b\",\"c\"],\n",
        "                  \"b\" : [\"a\", \"d\"],\n",
        "                  \"c\" : [\"a\", \"d\"],\n",
        "                  \"d\" : [\"e\"],\n",
        "                  \"e\" : [\"d\"]\n",
        "                  }\n",
        "\n",
        "g = graph(graph_elements)\n",
        "\n",
        "print(g.edges())"
      ],
      "execution_count": null,
      "outputs": [
        {
          "output_type": "stream",
          "text": [
            "[{'a', 'b'}, {'a', 'c'}]\n"
          ],
          "name": "stdout"
        }
      ]
    },
    {
      "cell_type": "markdown",
      "metadata": {
        "id": "QBT8ltbSUEK-"
      },
      "source": [
        "**4. Menambah Vertex / simpul**"
      ]
    },
    {
      "cell_type": "code",
      "metadata": {
        "colab": {
          "base_uri": "https://localhost:8080/"
        },
        "id": "jQ0El3oqUILl",
        "outputId": "2d4922ab-1aac-49d6-88ee-625fd2adc907"
      },
      "source": [
        "class graph:\n",
        "\n",
        "    def __init__(self,gdict=None) :\n",
        "        if gdict is None:\n",
        "            gdict = {}\n",
        "        self.gdict = gdict\n",
        "\n",
        "    def getVertices(self):\n",
        "        return list(self.gdict.keys())\n",
        "\n",
        "# Add the vertex as a key\n",
        "    def addVertex(self, vrtx):\n",
        "       if vrtx not in self.gdict:\n",
        "            self.gdict[vrtx] = []\n",
        "\n",
        "# Create the dictionary with graph elements\n",
        "graph_elements = { \"a\" : [\"b\",\"c\"],\n",
        "                  \"b\" : [\"a\", \"d\"],\n",
        "                  \"c\" : [\"a\", \"d\"],\n",
        "                  \"d\" : [\"e\"],\n",
        "                  \"e\" : [\"d\"]\n",
        "                  }\n",
        "\n",
        "g = graph(graph_elements)\n",
        "\n",
        "g.addVertex(\"f\")\n",
        "\n",
        "print(g.getVertices())"
      ],
      "execution_count": null,
      "outputs": [
        {
          "output_type": "stream",
          "text": [
            "['a', 'b', 'c', 'd', 'e', 'f']\n"
          ],
          "name": "stdout"
        }
      ]
    }
  ]
}